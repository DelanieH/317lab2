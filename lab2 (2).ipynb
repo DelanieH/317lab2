{
  "metadata": {
    "language_info": {
      "codemirror_mode": {
        "name": "python",
        "version": 3
      },
      "file_extension": ".py",
      "mimetype": "text/x-python",
      "name": "python",
      "nbconvert_exporter": "python",
      "pygments_lexer": "ipython3",
      "version": "3.8"
    },
    "kernelspec": {
      "name": "python",
      "display_name": "Python (Pyodide)",
      "language": "python"
    }
  },
  "nbformat_minor": 4,
  "nbformat": 4,
  "cells": [
    {
      "cell_type": "code",
      "source": "#Q1\n\nfrom math import factorial\n\ndef mysin(x):\n    # number of iterations\n    n = 15\n    # the returning variable\n    y = 0\n    \n    \n    \n    \n    for i in range(n):\n        # repeating variable\n        z = (2*i)+1\n        # power series of sin\n        y += ((-1)**i)*(x**z)/(factorial(z))\n       #print(i)\n       #print(y)\n    \n    \n    \n    return y\n        ",
      "metadata": {
        "trusted": true
      },
      "execution_count": 36,
      "outputs": []
    },
    {
      "cell_type": "code",
      "source": "mysin(2)",
      "metadata": {
        "trusted": true
      },
      "execution_count": 37,
      "outputs": [
        {
          "execution_count": 37,
          "output_type": "execute_result",
          "data": {
            "text/plain": "0.9092974268256817"
          },
          "metadata": {}
        }
      ]
    },
    {
      "cell_type": "code",
      "source": "# plotting a graph\n\n#import mathplotlib.pyplot as plt\n\n\n",
      "metadata": {
        "trusted": true
      },
      "execution_count": 53,
      "outputs": []
    },
    {
      "cell_type": "code",
      "source": "# arguement reduction \n\nfrom math import sqrt\n\n\ndef mysin_reduction1(x):\n   \n    half_angle = x/2\n    \n    y = 2*mysin(half_angle)*sqrt(1-(mysin(half_angle)**2))\n    \n    \n    return y\n\n\n\n\ndef mysin_reduction2(x):\n    n = 15\n    y = 0\n    max = 0\n    \n    for i in range(n):\n        i = i +1\n        z = 2*i + 1\n        E_at_z = z / (1-z)\n        # max of E(z)\n        max += ((-1)**i)*E_at_z\n\n    # sin(x) <= max\n    \n    \n    return max",
      "metadata": {
        "trusted": true
      },
      "execution_count": 54,
      "outputs": []
    },
    {
      "cell_type": "code",
      "source": "mysin_reduction1(2)\nmysin_reduction2(2)",
      "metadata": {
        "trusted": true
      },
      "execution_count": 52,
      "outputs": [
        {
          "execution_count": 52,
          "output_type": "execute_result",
          "data": {
            "text/plain": "1.3626859251859254"
          },
          "metadata": {}
        }
      ]
    },
    {
      "cell_type": "code",
      "source": "#Q3\n\n\n# for -1 < x <= 0\n# I will use this function more so in the reduction ones\n\ndef myln1(x):\n    n = 15\n    y = 0\n    \n    x = x - 1\n    \n    for i in range(n):\n        # we start the sum at n = 1\n        i = i +1\n        y += ((-1)**(i-1))*(x**i)/(i)\n\n    return y\n\n# for x > 0\n# using James Georgery's methode\n\ndef myln2(x):\n    n = 15\n    y = 0\n    \n    x_0 = (x-1)/(1+x)\n    \n    #summation\n    for i in range(n):\n        z = (2*i)+1\n        y += (x_0**z)/z\n    \n    \n    \n    y= 2*y\n    return y\n    \n    \n    \n    \n    \n",
      "metadata": {
        "trusted": true
      },
      "execution_count": 98,
      "outputs": []
    },
    {
      "cell_type": "code",
      "source": "# as you can see myln2 returns a value greater than the value returned by myln1\nprint(myln1(0.5))\nprint(myln2(0.5))\n\nprint(myln1(0.25))\nprint(myln2(0.25))\n\n# x > 1, only myln2 returns a correct value\nprint(myln2(2))\n",
      "metadata": {
        "trusted": true
      },
      "execution_count": 104,
      "outputs": [
        {
          "name": "stdout",
          "text": "-0.6931453745906869\n-0.693147180559945\n-1.384128265026082\n-1.3862943481774248\n0.693147180559945\n",
          "output_type": "stream"
        }
      ]
    },
    {
      "cell_type": "code",
      "source": "#  plotting a graph\n\nimport matplotlib.pyplot as plt\n\n\n",
      "metadata": {
        "trusted": true
      },
      "execution_count": 119,
      "outputs": []
    },
    {
      "cell_type": "code",
      "source": "# arguement reduction options\n\nfrom math import sqrt\n\n# using multplication reduction\n# works for all x > 0\ndef myln_reduction1(x):\n    n = 15\n    x = x - 1\n    \n    z = x/(1+sqrt(1+x))\n    \n    y = 0\n    \n    # implements the same sum as in myln1\n    for i in range(n):\n         # we start the sum at n = 1\n        i = i +1\n        y += ((-1)**(i-1))*(z**i)/(i)\n    \n    \n    y = 2*y\n    return y\n\n# changing the formula of z\n# similar as the function above\ndef myln_reduction2(x):\n    n = 15 \n    x = x - 1\n    y = 0\n    z = sqrt(1+x) - 1\n    \n    # implements the same sum as in myln1\n    for i in range(n):\n        # we start the sum at n = 1\n        i = i +1\n        y += ((-1)**(i-1))*(z**i)/(i)\n    \n    y = 2*y\n    \n    return y\n\n",
      "metadata": {
        "trusted": true
      },
      "execution_count": 122,
      "outputs": []
    },
    {
      "cell_type": "code",
      "source": "# Q4 \n\n# We can compute ln(3) using the reduced formulas.\n\nprint(myln_reduction1(3))\nprint(myln_reduction2(3))\n# We can also compute ln(3) using myln2\n\nprint(myln2(3))\n\n# as you can see myln_reduction1 and 2 both produce the similar answers, with reduction2 being a bit more accurate.\n# myln2 returns a much smaller value than both reduction functions.\n# myln2 is more accurate than either reductions\n",
      "metadata": {
        "trusted": true
      },
      "execution_count": 124,
      "outputs": [
        {
          "name": "stdout",
          "text": "1.0991160267800066\n1.0991160267800062\n1.098612288628832\n",
          "output_type": "stream"
        }
      ]
    },
    {
      "cell_type": "code",
      "source": "# which function is faster?\nimport timeit\n\nprint(timeit.timeit(\"myln_reduction1(3)\",globals=globals()))\n\nprint(timeit.timeit(\"myln_reduction2(3)\",globals=globals()))\n\nprint(timeit.timeit(\"myln2(3)\",globals=globals()))\n\n# thus myln_reduction1 is faster than myln_reduction2\n# but myln2 is significantly faster than both of these functions",
      "metadata": {
        "trusted": true
      },
      "execution_count": 117,
      "outputs": [
        {
          "name": "stdout",
          "text": "6.814400000001115\n6.817199999999502\n4.335399999999936\n",
          "output_type": "stream"
        }
      ]
    },
    {
      "cell_type": "code",
      "source": "\n",
      "metadata": {},
      "execution_count": null,
      "outputs": []
    }
  ]
}
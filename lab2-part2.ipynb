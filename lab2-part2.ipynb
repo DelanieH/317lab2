{
  "metadata": {
    "language_info": {
      "codemirror_mode": {
        "name": "python",
        "version": 3
      },
      "file_extension": ".py",
      "mimetype": "text/x-python",
      "name": "python",
      "nbconvert_exporter": "python",
      "pygments_lexer": "ipython3",
      "version": "3.8"
    },
    "kernelspec": {
      "name": "python",
      "display_name": "Python (Pyodide)",
      "language": "python"
    }
  },
  "nbformat_minor": 4,
  "nbformat": 4,
  "cells": [
    {
      "cell_type": "code",
      "source": "# Part 2\n\n# fixed pt iteration\n\n# table for estimates\ndef Y_est1(m):\n    S_fp = 0 \n    # this is the fixed pt estimate \n    \n    # fixed pt\n    B = 2\n    N_adj = 1.238982962\n    # number of iterations to do\n    #n = 5\n    #n = 1\n    \n    # 1/2 < xY^2 < 3/2\n    Y_sq = 0\n    equality = 0\n    \n    while equality < 3/2:\n        S_fp = B/((2**(m/2))*(N_adj))\n        #n += 1\n        B = B*2\n        #print(\"1\")\n        Y_sq = S_fp**2\n        equality = Y_sq*m\n        \n    return S_fp\n    \nfrom sympy import limit\n\ndef Y_est2(m):\n    S_fp = limit(1/(m**(1/2)), 15)\n    return S_fp\n\ndef mysqrt1(z):\n    # intialization\n    \n    b_0 = z\n    Y_0 = Y_est2(z)\n   # S = 1/(Y_0**2)\n    #x_0 = S*Y_0\n    y_0 = Y_0\n    g_0 = b_0*y_0\n    \n    \n    # varibles to update during each iteration\n    b = b_0\n    Y = Y_0\n    #x = x_0\n    y = y_0\n    g = g_0\n    b_i = 0\n    \n    print(b)\n    print(g)\n    \n    \n    # counter\n    \n    \n    while b_i < 1:\n        b_i = b*(Y**2)\n        \n        Y_i = (3-b_i)/2\n        \n        g_i = g*Y_i\n        \n        y_i = y*Y_i\n        \n        #print(\"1\")\n        \n        # update varibles\n        b = b_i\n        Y = Y_i\n        g = g_i\n        y = y_i\n\n    \n    \n    \n    return g",
      "metadata": {
        "trusted": true
      },
      "execution_count": 72,
      "outputs": []
    },
    {
      "cell_type": "code",
      "source": "print(mysqrt1(10))\nprint(Y_est(10))  # need to fix est",
      "metadata": {
        "trusted": true
      },
      "execution_count": 73,
      "outputs": [
        {
          "ename": "<class 'TypeError'>",
          "evalue": "limit() missing 1 required positional argument: 'z0'",
          "traceback": [
            "\u001b[0;31m---------------------------------------------------------------------------\u001b[0m",
            "\u001b[0;31mTypeError\u001b[0m                                 Traceback (most recent call last)",
            "Cell \u001b[0;32mIn[73], line 1\u001b[0m\n\u001b[0;32m----> 1\u001b[0m \u001b[38;5;28mprint\u001b[39m(\u001b[43mmysqrt1\u001b[49m\u001b[43m(\u001b[49m\u001b[38;5;241;43m10\u001b[39;49m\u001b[43m)\u001b[49m)\n\u001b[1;32m      2\u001b[0m \u001b[38;5;28mprint\u001b[39m(Y_est(\u001b[38;5;241m10\u001b[39m))  \u001b[38;5;66;03m# need to fix est\u001b[39;00m\n",
            "Cell \u001b[0;32mIn[72], line 41\u001b[0m, in \u001b[0;36mmysqrt1\u001b[0;34m(z)\u001b[0m\n\u001b[1;32m     37\u001b[0m \u001b[38;5;28;01mdef\u001b[39;00m \u001b[38;5;21mmysqrt1\u001b[39m(z):\n\u001b[1;32m     38\u001b[0m     \u001b[38;5;66;03m# intialization\u001b[39;00m\n\u001b[1;32m     40\u001b[0m     b_0 \u001b[38;5;241m=\u001b[39m z\n\u001b[0;32m---> 41\u001b[0m     Y_0 \u001b[38;5;241m=\u001b[39m \u001b[43mY_est2\u001b[49m\u001b[43m(\u001b[49m\u001b[43mz\u001b[49m\u001b[43m)\u001b[49m\n\u001b[1;32m     42\u001b[0m    \u001b[38;5;66;03m# S = 1/(Y_0**2)\u001b[39;00m\n\u001b[1;32m     43\u001b[0m     \u001b[38;5;66;03m#x_0 = S*Y_0\u001b[39;00m\n\u001b[1;32m     44\u001b[0m     y_0 \u001b[38;5;241m=\u001b[39m Y_0\n",
            "Cell \u001b[0;32mIn[72], line 34\u001b[0m, in \u001b[0;36mY_est2\u001b[0;34m(m)\u001b[0m\n\u001b[1;32m     33\u001b[0m \u001b[38;5;28;01mdef\u001b[39;00m \u001b[38;5;21mY_est2\u001b[39m(m):\n\u001b[0;32m---> 34\u001b[0m     S_fp \u001b[38;5;241m=\u001b[39m \u001b[43mlimit\u001b[49m\u001b[43m(\u001b[49m\u001b[38;5;241;43m1\u001b[39;49m\u001b[38;5;241;43m/\u001b[39;49m\u001b[43m(\u001b[49m\u001b[43mm\u001b[49m\u001b[38;5;241;43m*\u001b[39;49m\u001b[38;5;241;43m*\u001b[39;49m\u001b[43m(\u001b[49m\u001b[38;5;241;43m1\u001b[39;49m\u001b[38;5;241;43m/\u001b[39;49m\u001b[38;5;241;43m2\u001b[39;49m\u001b[43m)\u001b[49m\u001b[43m)\u001b[49m\u001b[43m,\u001b[49m\u001b[43m \u001b[49m\u001b[38;5;241;43m15\u001b[39;49m\u001b[43m)\u001b[49m\n\u001b[1;32m     35\u001b[0m     \u001b[38;5;28;01mreturn\u001b[39;00m S_fp\n",
            "\u001b[0;31mTypeError\u001b[0m: limit() missing 1 required positional argument: 'z0'"
          ],
          "output_type": "error"
        }
      ]
    },
    {
      "cell_type": "code",
      "source": "",
      "metadata": {},
      "execution_count": null,
      "outputs": []
    }
  ]
}